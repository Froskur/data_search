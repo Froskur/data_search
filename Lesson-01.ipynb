{
 "cells": [
  {
   "cell_type": "code",
   "execution_count": 7,
   "metadata": {},
   "outputs": [],
   "source": [
    "import numpy as np\n",
    "import matplotlib.pyplot as plt"
   ]
  },
  {
   "cell_type": "code",
   "execution_count": 8,
   "metadata": {},
   "outputs": [],
   "source": [
    "def calc_mse(y, y_pred):\n",
    "  err = np.mean((y - y_pred)**2)\n",
    "  return err"
   ]
  },
  {
   "cell_type": "markdown",
   "metadata": {},
   "source": [
    "# Подберите скорость обучения (alpha) и количество итераций:"
   ]
  },
  {
   "cell_type": "markdown",
   "metadata": {},
   "source": [
    "Это наш стаж первый \"пустой\" коэффицинет и стаж преподователя в годах"
   ]
  },
  {
   "cell_type": "code",
   "execution_count": 11,
   "metadata": {},
   "outputs": [],
   "source": [
    "X = np.array([[1, 1, 1, 1, 1, 1, 1, 1, 1, 1],\n",
    "              [1, 1, 2, 1, 3, 0, 5, 10, 1, 2]])"
   ]
  },
  {
   "cell_type": "markdown",
   "metadata": {},
   "source": [
    "Средний бал по ЕГЭ учеников этого преподователя "
   ]
  },
  {
   "cell_type": "code",
   "execution_count": 10,
   "metadata": {},
   "outputs": [],
   "source": [
    "y = [45, 55, 50, 59, 65, 35, 75, 80, 50, 60]"
   ]
  },
  {
   "cell_type": "markdown",
   "metadata": {},
   "source": [
    "Это количество элементов в нашей выборке.\n",
    "Кстати, в статистике мы говорили про несмешеную оценку отклонения и там число членов должно быть уменьшено на 1 т.е. не $\\dfrac{1}{n}$ а $\\dfrac{1}{n-1}$ Тут не правильне будет учитывать её же? Понятно что мы сравниваем эти цитфры только, и нас сам поиск коэффециентов это не влияте, но всё же. ЛУчге приучать использовать правильные методы ИМХО"
   ]
  },
  {
   "cell_type": "code",
   "execution_count": 133,
   "metadata": {},
   "outputs": [],
   "source": [
    "n = X.shape[1]"
   ]
  },
  {
   "cell_type": "code",
   "execution_count": 143,
   "metadata": {},
   "outputs": [
    {
     "data": {
      "text/plain": [
       "(array([1. , 0.5]), 0.01)"
      ]
     },
     "execution_count": 143,
     "metadata": {},
     "output_type": "execute_result"
    }
   ],
   "source": [
    "#Это наши начальные значения коэффциентов, с которых мы начинаем наше движение \n",
    "W = np.array([1, 0.5])\n",
    "\n",
    "#Это наш начальный шаг, т.е шаг, с которым мы будем менять эти коэффициенты \n",
    "alpha = 1e-2\n",
    "\n",
    "W, alpha"
   ]
  },
  {
   "cell_type": "markdown",
   "metadata": {},
   "source": [
    "Собственно приступаем к поиску таких коэфцицентов при которых у нас средне квадратичная ошибка минимальная"
   ]
  },
  {
   "cell_type": "code",
   "execution_count": 145,
   "metadata": {},
   "outputs": [
    {
     "name": "stdout",
     "output_type": "stream",
     "text": [
      "0 [47.23088237  3.91094704] 45.937500872219864\n",
      "100 [47.23169965  3.91079613] 45.93750010783411\n",
      "200 [47.23198702  3.91074306] 45.93750001333172\n",
      "300 [47.23208806  3.9107244 ] 45.93750000164824\n",
      "400 [47.23212359  3.91071784] 45.937500000203784\n",
      "500 [47.23213608  3.91071554] 45.937500000025196\n",
      "600 [47.23214048  3.91071473] 45.93750000000313\n",
      "700 [47.23214202  3.91071444] 45.93750000000038\n",
      "800 [47.23214256  3.91071434] 45.93750000000003\n",
      "900 [47.23214275  3.9107143 ] 45.937500000000014\n"
     ]
    }
   ],
   "source": [
    "for i in range(1000):\n",
    "  y_pred = np.dot(W, X)\n",
    "  err = calc_mse(y, y_pred)\n",
    "  \n",
    "  for ii in range(W.shape[0]):\n",
    "    W[ii] -= alpha * (1/n * 2 * np.sum(X[ii] * (y_pred - y)))\n",
    "\n",
    "  if i % 100 == 0:  \n",
    "      print(i, W, err)"
   ]
  },
  {
   "cell_type": "markdown",
   "metadata": {},
   "source": [
    "Я собсвтенно не стал алгоритмы писать для подбора, а сдела просто визуальным способом. за 1000 итариций с шагом 0.01 добились очень не плохиз результатов ) "
   ]
  },
  {
   "cell_type": "markdown",
   "metadata": {},
   "source": [
    "# *2. В этом коде мы избавляемся от итераций по весам, но тут есть ошибка, исправьте ее:"
   ]
  },
  {
   "cell_type": "code",
   "execution_count": 127,
   "metadata": {},
   "outputs": [
    {
     "data": {
      "text/plain": [
       "(array([1. , 0.5]), 0.0001)"
      ]
     },
     "execution_count": 127,
     "metadata": {},
     "output_type": "execute_result"
    }
   ],
   "source": [
    "n = X.shape[1]\n",
    "alpha = 1e-4\n",
    "W = np.array([1, 0.5])\n",
    "W, alpha"
   ]
  },
  {
   "cell_type": "code",
   "execution_count": 128,
   "metadata": {},
   "outputs": [
    {
     "name": "stdout",
     "output_type": "stream",
     "text": [
      "0 [1.04502 0.54502] 3173.15\n",
      "100 [4.71884428 4.21884428] 1795.372786768742\n",
      "200 [7.1402917 6.6402917] 1196.8339637692059\n",
      "300 [8.73628737 8.23628737] 936.814623053387\n",
      "400 [9.78822107 9.28822107] 823.8561064989115\n",
      "500 [10.48155912  9.98155912] 774.784270430637\n",
      "600 [10.93854386 10.43854386] 753.4663108064917\n",
      "700 [11.23974622 10.73974622] 744.2052878053473\n",
      "800 [11.43827114 10.93827114] 740.1820816195831\n",
      "900 [11.56912052 11.06912052] 738.4343062376228\n"
     ]
    }
   ],
   "source": [
    "for i in range(1000):\n",
    "  y_pred = np.dot(W, X)\n",
    "  err = calc_mse(y, y_pred)\n",
    "  '''for ii in range(W.shape[0]):\n",
    "    W[ii] -= alpha * (1/n * 2 * np.sum(X[ii] * (y_pred - y)))'''\n",
    "  W -= (alpha * (1/n * 2 * np.sum(X * (y_pred - y))))\n",
    "  if i % 100 == 0:\n",
    "    print(i, W, err)"
   ]
  },
  {
   "cell_type": "markdown",
   "metadata": {},
   "source": [
    "Ошибка в том, что np.sum суммирует все 20 показателей по обоим коэффециентам а не по каждому, и в результате новые коэффециенты становятся не правильными. Надо просто задать ось, по которой будем ссумировать"
   ]
  },
  {
   "cell_type": "code",
   "execution_count": 129,
   "metadata": {},
   "outputs": [
    {
     "name": "stdout",
     "output_type": "stream",
     "text": [
      "0 [11.65801647 11.15201578] 737.6750315087768\n",
      "100 [11.99595713 10.91434926] 720.5676355333538\n",
      "200 [12.33823738 10.72157335] 705.1137706237025\n",
      "300 [12.68276961 10.56216144] 690.6892811260713\n",
      "400 [13.02802033 10.42759012] 676.9504445038908\n",
      "500 [13.37286565 10.31155629] 663.7068642448554\n",
      "600 [13.71648436 10.2093983 ] 650.851997438019\n",
      "700 [14.05827894 10.11766802] 638.3251830312599\n",
      "800 [14.39781712 10.03381455] 626.0908870421179\n",
      "900 [14.73478874  9.95595027] 614.1273578442539\n"
     ]
    }
   ],
   "source": [
    "for i in range(1000):\n",
    "    \n",
    "  y_pred = np.dot(W, X)\n",
    "\n",
    "  err = calc_mse(y, y_pred)\n",
    "    \n",
    "  W -= alpha * (1/n * 2 * np.sum(X * (y_pred - y),axis=1))\n",
    "  \n",
    "  if i % 100 == 0:\n",
    "    print(i, W, err)"
   ]
  },
  {
   "cell_type": "markdown",
   "metadata": {},
   "source": [
    "И с моим вариантом шага "
   ]
  },
  {
   "cell_type": "code",
   "execution_count": 146,
   "metadata": {},
   "outputs": [
    {
     "name": "stdout",
     "output_type": "stream",
     "text": [
      "0 [2.102 3.9  ] 3173.15\n",
      "100 [31.88770806  6.74418155] 175.19445858001853\n",
      "200 [41.83683774  4.90699865] 61.9177717428135\n",
      "300 [45.33508261  4.26102097] 47.913169919666785\n",
      "400 [46.56511152  4.03388672] 46.181755648107604\n",
      "500 [46.99760587  3.95402334] 45.96769776787538\n",
      "600 [47.14967657  3.92594232] 45.941233404700036\n",
      "700 [47.20314662  3.91606866] 45.93796156758051\n",
      "800 [47.2219474   3.91259695] 45.93755706443538\n",
      "900 [47.228558    3.91137626] 45.937507054979434\n"
     ]
    }
   ],
   "source": [
    "W = np.array([1, 0.5])\n",
    "alpha = 1e-2\n",
    "\n",
    "for i in range(1000):\n",
    "  y_pred = np.dot(W, X)\n",
    "  err = calc_mse(y, y_pred)\n",
    "  \n",
    "  W -= alpha * (1/n * 2 * np.sum(X * (y_pred - y),axis=1))  \n",
    "\n",
    "  if i % 100 == 0:  \n",
    "      print(i, W, err)"
   ]
  },
  {
   "cell_type": "code",
   "execution_count": null,
   "metadata": {},
   "outputs": [],
   "source": []
  }
 ],
 "metadata": {
  "kernelspec": {
   "display_name": "Python 3",
   "language": "python",
   "name": "python3"
  },
  "language_info": {
   "codemirror_mode": {
    "name": "ipython",
    "version": 3
   },
   "file_extension": ".py",
   "mimetype": "text/x-python",
   "name": "python",
   "nbconvert_exporter": "python",
   "pygments_lexer": "ipython3",
   "version": "3.7.4"
  }
 },
 "nbformat": 4,
 "nbformat_minor": 2
}
