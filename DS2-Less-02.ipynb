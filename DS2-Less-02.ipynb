{
 "cells": [
  {
   "cell_type": "markdown",
   "metadata": {},
   "source": [
    "# Курсовая по курсу Data Science (второй проход)"
   ]
  },
  {
   "cell_type": "code",
   "execution_count": 2,
   "metadata": {},
   "outputs": [],
   "source": [
    "import numpy as np\n",
    "import pandas as pd\n",
    "\n",
    "from scipy.stats import shapiro\n",
    "from scipy.stats import probplot\n",
    "from scipy.stats import ttest_ind, mannwhitneyu\n",
    "from scipy.stats import chi2_contingency\n",
    "from statsmodels.stats.weightstats import zconfint\n",
    "\n",
    "import seaborn as sns\n",
    "import matplotlib.pyplot as plt\n",
    "\n",
    "%matplotlib inline"
   ]
  },
  {
   "cell_type": "code",
   "execution_count": 3,
   "metadata": {},
   "outputs": [],
   "source": [
    "pd.set_option('display.max_columns', None)\n",
    "\n",
    "# input\n",
    "DATASET_PATH = 'course_project_train.csv'\n",
    "DATASET_TEST_PATH = 'course_project_test.csv'\n",
    "\n",
    "# output\n",
    "#PREP_DATASET_PATH = '../training_project_data_prep.csv'"
   ]
  },
  {
   "cell_type": "markdown",
   "metadata": {},
   "source": [
    "**Описание датасета**\n",
    "\n",
    "* **Home Ownership** - домовладение\n",
    "* **Annual Income** - годовой доход\n",
    "* **Years in current job** - количество лет на текущем месте работы\n",
    "* **Tax Liens** - налоговые обременения\n",
    "* **Number of Open Accounts** - количество открытых счетов\n",
    "* **Years of Credit History** - количество лет кредитной истории\n",
    "* **Maximum Open Credit** - наибольший открытый кредит\n",
    "* **Number of Credit Problems** - количество проблем с кредитом\n",
    "* **Months since last delinquent** - количество месяцев с последней просрочки платежа\n",
    "* **Bankruptcies** - банкротства\n",
    "* **Purpose** - цель кредита\n",
    "* **Term** - срок кредита\n",
    "* **Current Loan Amount** - текущая сумма кредита\n",
    "* **Current Credit Balance** - текущий кредитный баланс\n",
    "* **Monthly Debt** - ежемесячный долг\n",
    "* **Credit Default** - факт невыполнения кредитных обязательств (0 - погашен вовремя, 1 - просрочка)"
   ]
  },
  {
   "cell_type": "code",
   "execution_count": 4,
   "metadata": {},
   "outputs": [],
   "source": [
    "df = pd.read_csv(DATASET_PATH)\n",
    "df_test = pd.read_csv(DATASET_TEST_PATH)"
   ]
  },
  {
   "cell_type": "code",
   "execution_count": 5,
   "metadata": {},
   "outputs": [
    {
     "data": {
      "text/html": [
       "<div>\n",
       "<style scoped>\n",
       "    .dataframe tbody tr th:only-of-type {\n",
       "        vertical-align: middle;\n",
       "    }\n",
       "\n",
       "    .dataframe tbody tr th {\n",
       "        vertical-align: top;\n",
       "    }\n",
       "\n",
       "    .dataframe thead th {\n",
       "        text-align: right;\n",
       "    }\n",
       "</style>\n",
       "<table border=\"1\" class=\"dataframe\">\n",
       "  <thead>\n",
       "    <tr style=\"text-align: right;\">\n",
       "      <th></th>\n",
       "      <th>Home Ownership</th>\n",
       "      <th>Annual Income</th>\n",
       "      <th>Years in current job</th>\n",
       "      <th>Tax Liens</th>\n",
       "      <th>Number of Open Accounts</th>\n",
       "      <th>Years of Credit History</th>\n",
       "      <th>Maximum Open Credit</th>\n",
       "      <th>Number of Credit Problems</th>\n",
       "      <th>Months since last delinquent</th>\n",
       "      <th>Bankruptcies</th>\n",
       "      <th>Purpose</th>\n",
       "      <th>Term</th>\n",
       "      <th>Current Loan Amount</th>\n",
       "      <th>Current Credit Balance</th>\n",
       "      <th>Monthly Debt</th>\n",
       "      <th>Credit Score</th>\n",
       "      <th>Credit Default</th>\n",
       "    </tr>\n",
       "  </thead>\n",
       "  <tbody>\n",
       "    <tr>\n",
       "      <td>0</td>\n",
       "      <td>Own Home</td>\n",
       "      <td>482087.0</td>\n",
       "      <td>NaN</td>\n",
       "      <td>0.0</td>\n",
       "      <td>11.0</td>\n",
       "      <td>26.3</td>\n",
       "      <td>685960.0</td>\n",
       "      <td>1.0</td>\n",
       "      <td>NaN</td>\n",
       "      <td>1.0</td>\n",
       "      <td>debt consolidation</td>\n",
       "      <td>Short Term</td>\n",
       "      <td>99999999.0</td>\n",
       "      <td>47386.0</td>\n",
       "      <td>7914.0</td>\n",
       "      <td>749.0</td>\n",
       "      <td>0</td>\n",
       "    </tr>\n",
       "    <tr>\n",
       "      <td>1</td>\n",
       "      <td>Own Home</td>\n",
       "      <td>1025487.0</td>\n",
       "      <td>10+ years</td>\n",
       "      <td>0.0</td>\n",
       "      <td>15.0</td>\n",
       "      <td>15.3</td>\n",
       "      <td>1181730.0</td>\n",
       "      <td>0.0</td>\n",
       "      <td>NaN</td>\n",
       "      <td>0.0</td>\n",
       "      <td>debt consolidation</td>\n",
       "      <td>Long Term</td>\n",
       "      <td>264968.0</td>\n",
       "      <td>394972.0</td>\n",
       "      <td>18373.0</td>\n",
       "      <td>737.0</td>\n",
       "      <td>1</td>\n",
       "    </tr>\n",
       "    <tr>\n",
       "      <td>2</td>\n",
       "      <td>Home Mortgage</td>\n",
       "      <td>751412.0</td>\n",
       "      <td>8 years</td>\n",
       "      <td>0.0</td>\n",
       "      <td>11.0</td>\n",
       "      <td>35.0</td>\n",
       "      <td>1182434.0</td>\n",
       "      <td>0.0</td>\n",
       "      <td>NaN</td>\n",
       "      <td>0.0</td>\n",
       "      <td>debt consolidation</td>\n",
       "      <td>Short Term</td>\n",
       "      <td>99999999.0</td>\n",
       "      <td>308389.0</td>\n",
       "      <td>13651.0</td>\n",
       "      <td>742.0</td>\n",
       "      <td>0</td>\n",
       "    </tr>\n",
       "    <tr>\n",
       "      <td>3</td>\n",
       "      <td>Own Home</td>\n",
       "      <td>805068.0</td>\n",
       "      <td>6 years</td>\n",
       "      <td>0.0</td>\n",
       "      <td>8.0</td>\n",
       "      <td>22.5</td>\n",
       "      <td>147400.0</td>\n",
       "      <td>1.0</td>\n",
       "      <td>NaN</td>\n",
       "      <td>1.0</td>\n",
       "      <td>debt consolidation</td>\n",
       "      <td>Short Term</td>\n",
       "      <td>121396.0</td>\n",
       "      <td>95855.0</td>\n",
       "      <td>11338.0</td>\n",
       "      <td>694.0</td>\n",
       "      <td>0</td>\n",
       "    </tr>\n",
       "    <tr>\n",
       "      <td>4</td>\n",
       "      <td>Rent</td>\n",
       "      <td>776264.0</td>\n",
       "      <td>8 years</td>\n",
       "      <td>0.0</td>\n",
       "      <td>13.0</td>\n",
       "      <td>13.6</td>\n",
       "      <td>385836.0</td>\n",
       "      <td>1.0</td>\n",
       "      <td>NaN</td>\n",
       "      <td>0.0</td>\n",
       "      <td>debt consolidation</td>\n",
       "      <td>Short Term</td>\n",
       "      <td>125840.0</td>\n",
       "      <td>93309.0</td>\n",
       "      <td>7180.0</td>\n",
       "      <td>719.0</td>\n",
       "      <td>0</td>\n",
       "    </tr>\n",
       "  </tbody>\n",
       "</table>\n",
       "</div>"
      ],
      "text/plain": [
       "  Home Ownership  Annual Income Years in current job  Tax Liens  \\\n",
       "0       Own Home       482087.0                  NaN        0.0   \n",
       "1       Own Home      1025487.0            10+ years        0.0   \n",
       "2  Home Mortgage       751412.0              8 years        0.0   \n",
       "3       Own Home       805068.0              6 years        0.0   \n",
       "4           Rent       776264.0              8 years        0.0   \n",
       "\n",
       "   Number of Open Accounts  Years of Credit History  Maximum Open Credit  \\\n",
       "0                     11.0                     26.3             685960.0   \n",
       "1                     15.0                     15.3            1181730.0   \n",
       "2                     11.0                     35.0            1182434.0   \n",
       "3                      8.0                     22.5             147400.0   \n",
       "4                     13.0                     13.6             385836.0   \n",
       "\n",
       "   Number of Credit Problems  Months since last delinquent  Bankruptcies  \\\n",
       "0                        1.0                           NaN           1.0   \n",
       "1                        0.0                           NaN           0.0   \n",
       "2                        0.0                           NaN           0.0   \n",
       "3                        1.0                           NaN           1.0   \n",
       "4                        1.0                           NaN           0.0   \n",
       "\n",
       "              Purpose        Term  Current Loan Amount  \\\n",
       "0  debt consolidation  Short Term           99999999.0   \n",
       "1  debt consolidation   Long Term             264968.0   \n",
       "2  debt consolidation  Short Term           99999999.0   \n",
       "3  debt consolidation  Short Term             121396.0   \n",
       "4  debt consolidation  Short Term             125840.0   \n",
       "\n",
       "   Current Credit Balance  Monthly Debt  Credit Score  Credit Default  \n",
       "0                 47386.0        7914.0         749.0               0  \n",
       "1                394972.0       18373.0         737.0               1  \n",
       "2                308389.0       13651.0         742.0               0  \n",
       "3                 95855.0       11338.0         694.0               0  \n",
       "4                 93309.0        7180.0         719.0               0  "
      ]
     },
     "execution_count": 5,
     "metadata": {},
     "output_type": "execute_result"
    }
   ],
   "source": [
    "df.head()"
   ]
  },
  {
   "cell_type": "code",
   "execution_count": 6,
   "metadata": {},
   "outputs": [
    {
     "data": {
      "text/html": [
       "<div>\n",
       "<style scoped>\n",
       "    .dataframe tbody tr th:only-of-type {\n",
       "        vertical-align: middle;\n",
       "    }\n",
       "\n",
       "    .dataframe tbody tr th {\n",
       "        vertical-align: top;\n",
       "    }\n",
       "\n",
       "    .dataframe thead th {\n",
       "        text-align: right;\n",
       "    }\n",
       "</style>\n",
       "<table border=\"1\" class=\"dataframe\">\n",
       "  <thead>\n",
       "    <tr style=\"text-align: right;\">\n",
       "      <th></th>\n",
       "      <th>Home Ownership</th>\n",
       "      <th>Annual Income</th>\n",
       "      <th>Years in current job</th>\n",
       "      <th>Tax Liens</th>\n",
       "      <th>Number of Open Accounts</th>\n",
       "      <th>Years of Credit History</th>\n",
       "      <th>Maximum Open Credit</th>\n",
       "      <th>Number of Credit Problems</th>\n",
       "      <th>Months since last delinquent</th>\n",
       "      <th>Bankruptcies</th>\n",
       "      <th>Purpose</th>\n",
       "      <th>Term</th>\n",
       "      <th>Current Loan Amount</th>\n",
       "      <th>Current Credit Balance</th>\n",
       "      <th>Monthly Debt</th>\n",
       "      <th>Credit Score</th>\n",
       "    </tr>\n",
       "  </thead>\n",
       "  <tbody>\n",
       "    <tr>\n",
       "      <td>0</td>\n",
       "      <td>Rent</td>\n",
       "      <td>NaN</td>\n",
       "      <td>4 years</td>\n",
       "      <td>0.0</td>\n",
       "      <td>9.0</td>\n",
       "      <td>12.5</td>\n",
       "      <td>220968.0</td>\n",
       "      <td>0.0</td>\n",
       "      <td>70.0</td>\n",
       "      <td>0.0</td>\n",
       "      <td>debt consolidation</td>\n",
       "      <td>Short Term</td>\n",
       "      <td>162470.0</td>\n",
       "      <td>105906.0</td>\n",
       "      <td>6813.0</td>\n",
       "      <td>NaN</td>\n",
       "    </tr>\n",
       "    <tr>\n",
       "      <td>1</td>\n",
       "      <td>Rent</td>\n",
       "      <td>231838.0</td>\n",
       "      <td>1 year</td>\n",
       "      <td>0.0</td>\n",
       "      <td>6.0</td>\n",
       "      <td>32.7</td>\n",
       "      <td>55946.0</td>\n",
       "      <td>0.0</td>\n",
       "      <td>8.0</td>\n",
       "      <td>0.0</td>\n",
       "      <td>educational expenses</td>\n",
       "      <td>Short Term</td>\n",
       "      <td>78298.0</td>\n",
       "      <td>46037.0</td>\n",
       "      <td>2318.0</td>\n",
       "      <td>699.0</td>\n",
       "    </tr>\n",
       "    <tr>\n",
       "      <td>2</td>\n",
       "      <td>Home Mortgage</td>\n",
       "      <td>1152540.0</td>\n",
       "      <td>3 years</td>\n",
       "      <td>0.0</td>\n",
       "      <td>10.0</td>\n",
       "      <td>13.7</td>\n",
       "      <td>204600.0</td>\n",
       "      <td>0.0</td>\n",
       "      <td>NaN</td>\n",
       "      <td>0.0</td>\n",
       "      <td>debt consolidation</td>\n",
       "      <td>Short Term</td>\n",
       "      <td>200178.0</td>\n",
       "      <td>146490.0</td>\n",
       "      <td>18729.0</td>\n",
       "      <td>7260.0</td>\n",
       "    </tr>\n",
       "    <tr>\n",
       "      <td>3</td>\n",
       "      <td>Home Mortgage</td>\n",
       "      <td>1220313.0</td>\n",
       "      <td>10+ years</td>\n",
       "      <td>0.0</td>\n",
       "      <td>16.0</td>\n",
       "      <td>17.0</td>\n",
       "      <td>456302.0</td>\n",
       "      <td>0.0</td>\n",
       "      <td>70.0</td>\n",
       "      <td>0.0</td>\n",
       "      <td>debt consolidation</td>\n",
       "      <td>Short Term</td>\n",
       "      <td>217382.0</td>\n",
       "      <td>213199.0</td>\n",
       "      <td>27559.0</td>\n",
       "      <td>739.0</td>\n",
       "    </tr>\n",
       "    <tr>\n",
       "      <td>4</td>\n",
       "      <td>Home Mortgage</td>\n",
       "      <td>2340952.0</td>\n",
       "      <td>6 years</td>\n",
       "      <td>0.0</td>\n",
       "      <td>11.0</td>\n",
       "      <td>23.6</td>\n",
       "      <td>1207272.0</td>\n",
       "      <td>0.0</td>\n",
       "      <td>NaN</td>\n",
       "      <td>0.0</td>\n",
       "      <td>debt consolidation</td>\n",
       "      <td>Long Term</td>\n",
       "      <td>777634.0</td>\n",
       "      <td>425391.0</td>\n",
       "      <td>42605.0</td>\n",
       "      <td>706.0</td>\n",
       "    </tr>\n",
       "  </tbody>\n",
       "</table>\n",
       "</div>"
      ],
      "text/plain": [
       "  Home Ownership  Annual Income Years in current job  Tax Liens  \\\n",
       "0           Rent            NaN              4 years        0.0   \n",
       "1           Rent       231838.0               1 year        0.0   \n",
       "2  Home Mortgage      1152540.0              3 years        0.0   \n",
       "3  Home Mortgage      1220313.0            10+ years        0.0   \n",
       "4  Home Mortgage      2340952.0              6 years        0.0   \n",
       "\n",
       "   Number of Open Accounts  Years of Credit History  Maximum Open Credit  \\\n",
       "0                      9.0                     12.5             220968.0   \n",
       "1                      6.0                     32.7              55946.0   \n",
       "2                     10.0                     13.7             204600.0   \n",
       "3                     16.0                     17.0             456302.0   \n",
       "4                     11.0                     23.6            1207272.0   \n",
       "\n",
       "   Number of Credit Problems  Months since last delinquent  Bankruptcies  \\\n",
       "0                        0.0                          70.0           0.0   \n",
       "1                        0.0                           8.0           0.0   \n",
       "2                        0.0                           NaN           0.0   \n",
       "3                        0.0                          70.0           0.0   \n",
       "4                        0.0                           NaN           0.0   \n",
       "\n",
       "                Purpose        Term  Current Loan Amount  \\\n",
       "0    debt consolidation  Short Term             162470.0   \n",
       "1  educational expenses  Short Term              78298.0   \n",
       "2    debt consolidation  Short Term             200178.0   \n",
       "3    debt consolidation  Short Term             217382.0   \n",
       "4    debt consolidation   Long Term             777634.0   \n",
       "\n",
       "   Current Credit Balance  Monthly Debt  Credit Score  \n",
       "0                105906.0        6813.0           NaN  \n",
       "1                 46037.0        2318.0         699.0  \n",
       "2                146490.0       18729.0        7260.0  \n",
       "3                213199.0       27559.0         739.0  \n",
       "4                425391.0       42605.0         706.0  "
      ]
     },
     "execution_count": 6,
     "metadata": {},
     "output_type": "execute_result"
    }
   ],
   "source": [
    "df_test.head()"
   ]
  },
  {
   "cell_type": "markdown",
   "metadata": {},
   "source": [
    "Все строки с типом объект приведем к типу строка"
   ]
  },
  {
   "cell_type": "code",
   "execution_count": 7,
   "metadata": {},
   "outputs": [],
   "source": [
    "#for colname in df.select_dtypes(include=['object']).columns:\n",
    "    #print(colname)\n",
    "#    df[colname] = df[colname].astype(str)\n",
    "    #сразу сделаем и для второго набора\n",
    "#    df_test[colname] = df_test[colname].astype(str)"
   ]
  },
  {
   "cell_type": "markdown",
   "metadata": {},
   "source": [
    "Тут функции у нас будут с помощью которых мы будем обрабатывать наши колонки и приводить их к нужному виду"
   ]
  },
  {
   "cell_type": "code",
   "execution_count": 8,
   "metadata": {},
   "outputs": [],
   "source": [
    " def my_prepare_dataset(cdf, col):\n",
    "    if (col == 'Home Ownership'):\n",
    "        # прировняем 'Home Mortgage' к \"Have Mortgage\".\n",
    "        cdf.loc[cdf[col] == 'Have Mortgage', col] = 'Home Mortgage'\n",
    "    elif (col == 'Annual Income'):\n",
    "        #Обрабатываем годовой доход        \n",
    "        #Добавим свою колонку с полему указан доход или нет \n",
    "        cdf.loc[cdf[col].isnull() , 'Revenue set'] = 0\n",
    "        cdf.loc[cdf[col] == 0 , 'Revenue set']     = 0\n",
    "        \n",
    "        cdf.loc[cdf[col] > 0 , 'Revenue set']     = 1\n",
    "        \n",
    "        #и заменим сам доход с NaN на 0\n",
    "        cdf.loc[cdf[col].isnull() , col] = 0\n",
    "        \n",
    "        cdf['Revenue set'] = cdf['Revenue set'].astype('int32')\n",
    "    elif (col == 'Years in current job'):\n",
    "        #Ставим значения на месте работы, на моду, но только там, где указан годовой доход\n",
    "        cdf.loc[(cdf[col].isnull()) & (cdf['Annual Income']==0), col] = '-1'\n",
    "        cdf.loc[(cdf[col].isnull()) & (cdf['Annual Income']>0) , col] = cdf[col].mode()[0]\n",
    "         \n",
    "        #Подготовим данные для преобразования в число\n",
    "        cdf.loc[cdf[col] == '< 1 year', col] = '0 year';\n",
    "        \n",
    "        #Теперь заменим года, чтобы перейти на числове значений\n",
    "        cdf[col] = cdf[col].astype(str)\n",
    "        cdf[col] = pd.to_numeric(cdf[col].str.replace(r'[^0-9\\-]', ''), errors='coerce') \n",
    "        cdf[col] = cdf[col].astype('int32')\n",
    "    elif (col == 'Tax Liens'):\n",
    "        #cdf.loc[cdf[col]>=1, col] = 0\n",
    "        pass\n",
    "    elif (col == 'Maximum Open Credit'):\n",
    "        cdf['Debt load'] = 0\n",
    "        cdf.loc[cdf['Annual Income']>0 , 'Debt load'] = cdf.loc[cdf['Annual Income']>0 , 'Maximum Open Credit']/cdf.loc[cdf['Annual Income']>0 , 'Annual Income'] \n",
    "    elif (col == 'Number of Credit Problems'):\n",
    "        pass\n",
    "    elif (col == 'Months since last delinquent'):\n",
    "        cdf.loc[cdf[col].isnull() , col] = 0\n",
    "    elif (col == 'Bankruptcies'):\n",
    "        cdf.loc[cdf[col].isnull() , col] = cdf[col].mode()[0]\n",
    "        \n",
    "        #И ещё добавим све поле, которое будет делить всё просто на два класса\n",
    "        cdf['Bankruptcies Flag'] = 1\n",
    "        cdf.loc[cdf[col] == cdf[col].mode()[0] , 'Bankruptcies Flag'] = 0\n",
    "    elif (col == 'Purpose'):\n",
    "        if col in cdf:\n",
    "            # Если надо, то сделаем слияние маленьких признаков\n",
    "            if not('All others' in cdf[col].value_counts()):\n",
    "                # Значит нет ещё моего признака, и нужно сделать обработку\n",
    "                tmp_values = dict(cdf['Purpose'].value_counts().copy())\n",
    "\n",
    "                for i in range(4,len(tmp_values)):\n",
    "                    cdf.loc[cdf[col] == list(tmp_values.keys())[i] , col] = 'All others'\n",
    "                    #print (list(tmp_values.keys())[i])\n",
    "    elif (col == 'Term'):\n",
    "        tmp_values = dict(cdf['Term'].value_counts().copy())\n",
    "        \n",
    "        cdf.loc[cdf[col] == list(tmp_values.keys())[0] , col] = 0\n",
    "        cdf.loc[cdf[col] == list(tmp_values.keys())[1] , col] = 1\n",
    "        \n",
    "        cdf[col] = cdf[col].astype('int32')\n",
    "    elif (col == 'Current Loan Amount'):\n",
    "        pass\n",
    "    elif (col == 'Credit Score'):\n",
    "        #Добавим свое поле с тремя значениями, -1 кредитного рейтинга нет, 0 - рейтинг близко к нулю, и 1-высокий \n",
    "        #порог отсечения пока условный в 32 пнукта\n",
    "        if not('Credit Score My flag' in cdf):\n",
    "            cdf['Credit Score My flag'] = 1\n",
    "            cdf.loc[cdf[col].isnull() , 'Credit Score My flag'] = -1\n",
    "            cdf.loc[cdf[col]<=10 , 'Credit Score My flag'] = 0\n",
    "        \n",
    "        #И теперь заменяем пропуски в самой выборке\n",
    "        cdf.loc[cdf[col].isnull() , col] = 0"
   ]
  },
  {
   "cell_type": "markdown",
   "metadata": {},
   "source": [
    "## Обзор данных и их предобработка"
   ]
  },
  {
   "cell_type": "markdown",
   "metadata": {},
   "source": [
    "### 1. Home Ownership"
   ]
  },
  {
   "cell_type": "markdown",
   "metadata": {},
   "source": [
    "По количеству всё хорошо, но вот только смущает что \"Have Mortgage\" и \"Home Mortgage\". И то и другое про ипотеку, потому - прировняем 'Home Mortgage' к \"Have Mortgage\"."
   ]
  },
  {
   "cell_type": "code",
   "execution_count": 9,
   "metadata": {},
   "outputs": [],
   "source": [
    "my_prepare_dataset(df,'Home Ownership')\n",
    "my_prepare_dataset(df_test,'Home Ownership')"
   ]
  },
  {
   "cell_type": "markdown",
   "metadata": {},
   "source": [
    "### 2.  Annual Income\n",
    "Тут просто убираем пропуски NaN, пока не делал. пропустил. Кроме того, там есть достачтоно много пропусков"
   ]
  },
  {
   "cell_type": "code",
   "execution_count": 10,
   "metadata": {},
   "outputs": [],
   "source": [
    "#(len(df['Annual Income']) - df['Annual Income'].count())/len(df)*100\n",
    "#(len(df_test['Annual Income']) - df_test['Annual Income'].count())/len(df_test)*100\n",
    "my_prepare_dataset(df,'Annual Income')\n",
    "my_prepare_dataset(df_test,'Annual Income')"
   ]
  },
  {
   "cell_type": "markdown",
   "metadata": {},
   "source": [
    ">20 процентов пропусков причем в обоих выборках. Кондидат на исключение. Особенно так как много разных значения и разброс достаточно большой\n",
    "\n",
    "Добавил новое поле ещё <b>Revenue set</b>, которое принимает 0, если цифра дохода не указана и 1 если доход указан"
   ]
  },
  {
   "cell_type": "markdown",
   "metadata": {},
   "source": [
    "### 3. Years in current job"
   ]
  },
  {
   "cell_type": "code",
   "execution_count": 11,
   "metadata": {},
   "outputs": [],
   "source": [
    "my_prepare_dataset(df,'Years in current job')\n",
    "my_prepare_dataset(df_test,'Years in current job')"
   ]
  },
  {
   "cell_type": "code",
   "execution_count": 12,
   "metadata": {},
   "outputs": [
    {
     "data": {
      "text/plain": [
       " 10    2628\n",
       " 2      705\n",
       " 3      620\n",
       " 0      563\n",
       " 5      516\n",
       " 1      504\n",
       " 4      469\n",
       " 6      426\n",
       " 7      396\n",
       " 8      339\n",
       " 9      259\n",
       "-1       75\n",
       "Name: Years in current job, dtype: int64"
      ]
     },
     "execution_count": 12,
     "metadata": {},
     "output_type": "execute_result"
    }
   ],
   "source": [
    "df['Years in current job'].value_counts()"
   ]
  },
  {
   "cell_type": "markdown",
   "metadata": {},
   "source": [
    ">Будем менять на моду, все nan пока не сделал\n",
    "\n",
    "В итоге сделал не совсем так. Поменял на моду но только там где есть годовой доход. Было бы странно указавать значение 10+ для таких случаев, так как вдруг например нет формальной работы или дохода или ещё что-то. \n",
    "Кроме того, я поддерживую мысль того чтобы не делать прям толпу дами перменных, потому преревел всё в число, и так как есть значения <1 то 0 превратил в -1"
   ]
  },
  {
   "cell_type": "markdown",
   "metadata": {},
   "source": [
    "### 4. Tax Liens"
   ]
  },
  {
   "cell_type": "code",
   "execution_count": 13,
   "metadata": {},
   "outputs": [
    {
     "data": {
      "text/plain": [
       "0.0    7366\n",
       "1.0      83\n",
       "2.0      30\n",
       "3.0      10\n",
       "4.0       6\n",
       "5.0       2\n",
       "6.0       2\n",
       "7.0       1\n",
       "Name: Tax Liens, dtype: int64"
      ]
     },
     "execution_count": 13,
     "metadata": {},
     "output_type": "execute_result"
    }
   ],
   "source": [
    "my_prepare_dataset(df,'Tax Liens')\n",
    "my_prepare_dataset(df_test,'Tax Liens')\n",
    "df['Tax Liens'].value_counts()"
   ]
  },
  {
   "cell_type": "markdown",
   "metadata": {},
   "source": [
    ">Вот как раз пример несбалансированных данных. Есть идея превратить его в несколько значений. Типа всех с 0 - в одну, а остальные в другую группу. Может быть с промежуточным значением. Пока не делал.\n",
    "\n",
    "В итоге подготовил в функции место для преобразования. Но оставил сеййчас как есть, чтобы посмотреть дальше, вдруг этот показатель сильно коррелирует с нашей целеовой переменной."
   ]
  },
  {
   "cell_type": "markdown",
   "metadata": {},
   "source": [
    "### 5. Number of Open Accounts"
   ]
  },
  {
   "cell_type": "code",
   "execution_count": 14,
   "metadata": {},
   "outputs": [],
   "source": [
    "#df['Number of Open Accounts'].value_counts()\n",
    "#df_test['Number of Open Accounts'].value_counts()"
   ]
  },
  {
   "cell_type": "markdown",
   "metadata": {},
   "source": [
    "Думаю что можно все оставить как есть. Может выбросы убрать потом."
   ]
  },
  {
   "cell_type": "markdown",
   "metadata": {},
   "source": [
    "### 6. Years of Credit History"
   ]
  },
  {
   "cell_type": "code",
   "execution_count": 15,
   "metadata": {},
   "outputs": [],
   "source": [
    "#df['Years of Credit History'].value_counts()\n",
    "#df_test['Years of Credit History'].value_counts()"
   ]
  },
  {
   "cell_type": "markdown",
   "metadata": {},
   "source": [
    "Пока тоже вроде всё ок"
   ]
  },
  {
   "cell_type": "markdown",
   "metadata": {},
   "source": [
    "### 8. Maximum Open Credit"
   ]
  },
  {
   "cell_type": "code",
   "execution_count": 16,
   "metadata": {},
   "outputs": [],
   "source": [
    "my_prepare_dataset(df,'Maximum Open Credit')\n",
    "my_prepare_dataset(df_test,'Maximum Open Credit')"
   ]
  },
  {
   "cell_type": "code",
   "execution_count": 17,
   "metadata": {},
   "outputs": [],
   "source": [
    "#df.loc[df['Debt load']==0]"
   ]
  },
  {
   "cell_type": "markdown",
   "metadata": {},
   "source": [
    ">С пропусками ок. Возникла мысль, взять не это поле как есть, а как отношение этого поля к доходу. Возможно оно будет интересннесе, для прогнозирования, возможно с ранжированием. Чтобы перейти от абсолютных значений и невелировать небольшие расхождения в суммах.\n",
    "Строю такие предположения, так как считаю что такие показатели +/- 100 в реальной жизни не влияют на показатель, а скорее могу давать не правильный прогноз\n",
    "\n",
    "Появилось новое поле <b>Debt load</b> как отношение кредитов к годовому доходу, если годовой доход есть"
   ]
  },
  {
   "cell_type": "markdown",
   "metadata": {},
   "source": [
    "### 8. Number of Credit Problems"
   ]
  },
  {
   "cell_type": "code",
   "execution_count": 18,
   "metadata": {},
   "outputs": [],
   "source": [
    "#my_prepare_dataset(df,'Number of Credit Problems')\n",
    "#my_prepare_dataset(df_test,'Number of Credit Problems')"
   ]
  },
  {
   "cell_type": "code",
   "execution_count": 19,
   "metadata": {},
   "outputs": [],
   "source": [
    "#df['Number of Credit Problems'].value_counts()\n",
    "#df_test['Number of Credit Problems'].value_counts()"
   ]
  },
  {
   "cell_type": "markdown",
   "metadata": {},
   "source": [
    "Пока предпологаю оставить как есть. Но вообще хочется конечно тоже немного свести к более категорийным. Но время покажет :)"
   ]
  },
  {
   "cell_type": "markdown",
   "metadata": {},
   "source": [
    "### 9. Months since last delinquent"
   ]
  },
  {
   "cell_type": "code",
   "execution_count": 20,
   "metadata": {},
   "outputs": [],
   "source": [
    "my_prepare_dataset(df,'Months since last delinquent')\n",
    "my_prepare_dataset(df_test,'Months since last delinquent')"
   ]
  },
  {
   "cell_type": "code",
   "execution_count": 21,
   "metadata": {},
   "outputs": [],
   "source": [
    "#(len(df['Months since last delinquent']) - df['Months since last delinquent'].count())/len(df)*100\n",
    "#(len(df_test['Months since last delinquent']) - df_test['Months since last delinquent'].count())/len(df_test)*100"
   ]
  },
  {
   "cell_type": "markdown",
   "metadata": {},
   "source": [
    ">Да вот оно странное поле. С одной стороны оно должно быть показательным. С другой стороны у нас есть 50 процентов пропусков. Мы не знаем почему - так. В нормальной ситуации можно предположить,что отсутсвие этих данных - это наверное хорошо. Так как мы рассматриваем именно месечный платеж, а не допустим банкротсов и не возврат кредита. Исключать наверное нельзя, так как если 60 раз до этого была просрочка то с высокой вероятностью кажется что и в этот раз будет\n",
    "Потому, наверное, заполним нулями все пустые.  \n",
    "\n",
    "Пока просто заполнил пропуси нулями. Считаем что если нет данных, то пропусков не было"
   ]
  },
  {
   "cell_type": "markdown",
   "metadata": {},
   "source": [
    "### 10. Bankruptcies"
   ]
  },
  {
   "cell_type": "code",
   "execution_count": 22,
   "metadata": {},
   "outputs": [],
   "source": [
    "my_prepare_dataset(df,'Bankruptcies')\n",
    "my_prepare_dataset(df_test,'Bankruptcies')"
   ]
  },
  {
   "cell_type": "code",
   "execution_count": 23,
   "metadata": {},
   "outputs": [
    {
     "data": {
      "text/plain": [
       "0    6674\n",
       "1     826\n",
       "Name: Bankruptcies Flag, dtype: int64"
      ]
     },
     "execution_count": 23,
     "metadata": {},
     "output_type": "execute_result"
    }
   ],
   "source": [
    "#(len(df['Bankruptcies']) - df['Bankruptcies'].count())/len(df)*100\n",
    "#(len(df_test['Bankruptcies']) - df_test['Bankruptcies'].count())/len(df_test)*100\n",
    "df['Bankruptcies Flag'].value_counts()"
   ]
  },
  {
   "cell_type": "markdown",
   "metadata": {},
   "source": [
    ">Пропусков мало, потому будем заменять их нулевыми значениями. Мне конечно хочется очень тоже заменять его на булево. Но будет видно после первой модели.\n",
    "\n",
    "Так и сделал, заменил на моду все пропуски. И ещё добавил <b>Bankruptcies Flag</b> которое просто 0 или 1. 1 всё что не 0 в Bankruptcies"
   ]
  },
  {
   "cell_type": "markdown",
   "metadata": {},
   "source": [
    "### 11. Purpose"
   ]
  },
  {
   "cell_type": "code",
   "execution_count": 24,
   "metadata": {},
   "outputs": [],
   "source": [
    "my_prepare_dataset(df,'Purpose')\n",
    "my_prepare_dataset(df_test,'Purpose')"
   ]
  },
  {
   "cell_type": "code",
   "execution_count": 25,
   "metadata": {},
   "outputs": [],
   "source": [
    "if 'Purpose' in df:\n",
    "    df = pd.get_dummies(df, prefix='Purpose', columns=['Purpose'], dtype=int)\n",
    "\n",
    "if 'Purpose' in df_test:\n",
    "    df_test = pd.get_dummies(df_test, prefix='Purpose', columns=['Purpose'], dtype=int)\n",
    "    "
   ]
  },
  {
   "cell_type": "code",
   "execution_count": 26,
   "metadata": {},
   "outputs": [],
   "source": [
    "#df['Purpose'].value_counts()\n",
    "#df_test['Purpose'].value_counts()"
   ]
  },
  {
   "cell_type": "code",
   "execution_count": 27,
   "metadata": {},
   "outputs": [
    {
     "name": "stdout",
     "output_type": "stream",
     "text": [
      "<class 'pandas.core.frame.DataFrame'>\n",
      "RangeIndex: 7500 entries, 0 to 7499\n",
      "Data columns (total 24 columns):\n",
      "Home Ownership                  7500 non-null object\n",
      "Annual Income                   7500 non-null float64\n",
      "Years in current job            7500 non-null int32\n",
      "Tax Liens                       7500 non-null float64\n",
      "Number of Open Accounts         7500 non-null float64\n",
      "Years of Credit History         7500 non-null float64\n",
      "Maximum Open Credit             7500 non-null float64\n",
      "Number of Credit Problems       7500 non-null float64\n",
      "Months since last delinquent    7500 non-null float64\n",
      "Bankruptcies                    7500 non-null float64\n",
      "Term                            7500 non-null object\n",
      "Current Loan Amount             7500 non-null float64\n",
      "Current Credit Balance          7500 non-null float64\n",
      "Monthly Debt                    7500 non-null float64\n",
      "Credit Score                    5943 non-null float64\n",
      "Credit Default                  7500 non-null int64\n",
      "Revenue set                     7500 non-null int32\n",
      "Debt load                       7500 non-null float64\n",
      "Bankruptcies Flag               7500 non-null int64\n",
      "Purpose_All others              7500 non-null int32\n",
      "Purpose_business loan           7500 non-null int32\n",
      "Purpose_debt consolidation      7500 non-null int32\n",
      "Purpose_home improvements       7500 non-null int32\n",
      "Purpose_other                   7500 non-null int32\n",
      "dtypes: float64(13), int32(7), int64(2), object(2)\n",
      "memory usage: 1.2+ MB\n"
     ]
    }
   ],
   "source": [
    "df.info()"
   ]
  },
  {
   "cell_type": "markdown",
   "metadata": {},
   "source": [
    ">Пропусков нет - уже хорошо. Это поле точно нужно превращать в что-то более просто. Всё что не в TOP преврщать в other, но дальше модель покажет.\n",
    "\n",
    "Сделал слияние всех признаков которые меньше определенного порога, можно будет подвигать. Ну и сделал преврашение в DUMMY"
   ]
  },
  {
   "cell_type": "markdown",
   "metadata": {},
   "source": [
    "### 11. Term"
   ]
  },
  {
   "cell_type": "code",
   "execution_count": 28,
   "metadata": {},
   "outputs": [],
   "source": [
    "my_prepare_dataset(df,'Term')\n",
    "my_prepare_dataset(df_test,'Term')"
   ]
  },
  {
   "cell_type": "code",
   "execution_count": 29,
   "metadata": {},
   "outputs": [
    {
     "data": {
      "text/plain": [
       "0    5556\n",
       "1    1944\n",
       "Name: Term, dtype: int64"
      ]
     },
     "execution_count": 29,
     "metadata": {},
     "output_type": "execute_result"
    }
   ],
   "source": [
    "df['Term'].value_counts()\n",
    "#df_test['Term'].value_counts()"
   ]
  },
  {
   "cell_type": "markdown",
   "metadata": {},
   "source": [
    ">Всё красиво, пропусков нет. Идеально заменится одной переменной со значением 0/1\n",
    "\n",
    "Так и сделал"
   ]
  },
  {
   "cell_type": "markdown",
   "metadata": {},
   "source": [
    "### 12. Current Loan Amount"
   ]
  },
  {
   "cell_type": "code",
   "execution_count": 30,
   "metadata": {},
   "outputs": [],
   "source": [
    "#my_prepare_dataset(df,'Current Loan Amount')\n",
    "#my_prepare_dataset(df_test,'Current Loan Amount')"
   ]
  },
  {
   "cell_type": "code",
   "execution_count": 31,
   "metadata": {},
   "outputs": [],
   "source": [
    "#df['Current Loan Amount'].value_counts()\n",
    "#df_test['Current Loan Amount'].value_counts()"
   ]
  },
  {
   "cell_type": "markdown",
   "metadata": {},
   "source": [
    ">Конечно смущает больше кол-во значений с 999... в реале будто при выгрузке попало в переменную меньшей длинны, и потому обрезалось. Видимо так и оставляем, так как нам с этим ничего не сделать\n",
    "\n",
    "Так и сделал"
   ]
  },
  {
   "cell_type": "markdown",
   "metadata": {},
   "source": [
    "### 13. Current Credit Balance"
   ]
  },
  {
   "cell_type": "code",
   "execution_count": 32,
   "metadata": {},
   "outputs": [],
   "source": [
    "#df['Current Credit Balance'].value_counts()\n",
    "#tmp_df = df.loc[df['Current Credit Balance']==0]\n",
    "#tmp_df"
   ]
  },
  {
   "cell_type": "markdown",
   "metadata": {},
   "source": [
    ">Немного смущают 0, хотя их и не много. Так как если он ноль, то и кредита значит нет, и строчек тут этих быть не должно. Потому посмотрю уже предметно на сами записи эти. Возможно что просто буду их игнорировать все строки с нулевым остатком. \n",
    "\n",
    "Не стал ничего с ними делать в итоге, так как яркого ничего не увидел, при этом прям несколько записей были с не нулевой нашей целевой переменной. "
   ]
  },
  {
   "cell_type": "markdown",
   "metadata": {},
   "source": [
    "### 14. Monthly Debt"
   ]
  },
  {
   "cell_type": "code",
   "execution_count": 33,
   "metadata": {},
   "outputs": [
    {
     "data": {
      "text/html": [
       "<div>\n",
       "<style scoped>\n",
       "    .dataframe tbody tr th:only-of-type {\n",
       "        vertical-align: middle;\n",
       "    }\n",
       "\n",
       "    .dataframe tbody tr th {\n",
       "        vertical-align: top;\n",
       "    }\n",
       "\n",
       "    .dataframe thead th {\n",
       "        text-align: right;\n",
       "    }\n",
       "</style>\n",
       "<table border=\"1\" class=\"dataframe\">\n",
       "  <thead>\n",
       "    <tr style=\"text-align: right;\">\n",
       "      <th></th>\n",
       "      <th>Home Ownership</th>\n",
       "      <th>Annual Income</th>\n",
       "      <th>Years in current job</th>\n",
       "      <th>Tax Liens</th>\n",
       "      <th>Number of Open Accounts</th>\n",
       "      <th>Years of Credit History</th>\n",
       "      <th>Maximum Open Credit</th>\n",
       "      <th>Number of Credit Problems</th>\n",
       "      <th>Months since last delinquent</th>\n",
       "      <th>Bankruptcies</th>\n",
       "      <th>Term</th>\n",
       "      <th>Current Loan Amount</th>\n",
       "      <th>Current Credit Balance</th>\n",
       "      <th>Monthly Debt</th>\n",
       "      <th>Credit Score</th>\n",
       "      <th>Credit Default</th>\n",
       "      <th>Revenue set</th>\n",
       "      <th>Debt load</th>\n",
       "      <th>Bankruptcies Flag</th>\n",
       "      <th>Purpose_All others</th>\n",
       "      <th>Purpose_business loan</th>\n",
       "      <th>Purpose_debt consolidation</th>\n",
       "      <th>Purpose_home improvements</th>\n",
       "      <th>Purpose_other</th>\n",
       "    </tr>\n",
       "  </thead>\n",
       "  <tbody>\n",
       "    <tr>\n",
       "      <td>780</td>\n",
       "      <td>Home Mortgage</td>\n",
       "      <td>867749.0</td>\n",
       "      <td>10</td>\n",
       "      <td>0.0</td>\n",
       "      <td>2.0</td>\n",
       "      <td>16.5</td>\n",
       "      <td>0.0</td>\n",
       "      <td>0.0</td>\n",
       "      <td>66.0</td>\n",
       "      <td>0.0</td>\n",
       "      <td>0</td>\n",
       "      <td>75350.0</td>\n",
       "      <td>0.0</td>\n",
       "      <td>0.0</td>\n",
       "      <td>704.0</td>\n",
       "      <td>0</td>\n",
       "      <td>1</td>\n",
       "      <td>0.0</td>\n",
       "      <td>0</td>\n",
       "      <td>0</td>\n",
       "      <td>0</td>\n",
       "      <td>0</td>\n",
       "      <td>1</td>\n",
       "      <td>0</td>\n",
       "    </tr>\n",
       "    <tr>\n",
       "      <td>1643</td>\n",
       "      <td>Rent</td>\n",
       "      <td>0.0</td>\n",
       "      <td>9</td>\n",
       "      <td>0.0</td>\n",
       "      <td>3.0</td>\n",
       "      <td>10.0</td>\n",
       "      <td>0.0</td>\n",
       "      <td>0.0</td>\n",
       "      <td>0.0</td>\n",
       "      <td>0.0</td>\n",
       "      <td>0</td>\n",
       "      <td>332156.0</td>\n",
       "      <td>0.0</td>\n",
       "      <td>0.0</td>\n",
       "      <td>NaN</td>\n",
       "      <td>1</td>\n",
       "      <td>0</td>\n",
       "      <td>0.0</td>\n",
       "      <td>0</td>\n",
       "      <td>0</td>\n",
       "      <td>0</td>\n",
       "      <td>0</td>\n",
       "      <td>0</td>\n",
       "      <td>1</td>\n",
       "    </tr>\n",
       "    <tr>\n",
       "      <td>3219</td>\n",
       "      <td>Home Mortgage</td>\n",
       "      <td>0.0</td>\n",
       "      <td>10</td>\n",
       "      <td>0.0</td>\n",
       "      <td>3.0</td>\n",
       "      <td>18.5</td>\n",
       "      <td>0.0</td>\n",
       "      <td>0.0</td>\n",
       "      <td>0.0</td>\n",
       "      <td>0.0</td>\n",
       "      <td>0</td>\n",
       "      <td>79200.0</td>\n",
       "      <td>0.0</td>\n",
       "      <td>0.0</td>\n",
       "      <td>NaN</td>\n",
       "      <td>0</td>\n",
       "      <td>0</td>\n",
       "      <td>0.0</td>\n",
       "      <td>0</td>\n",
       "      <td>0</td>\n",
       "      <td>0</td>\n",
       "      <td>1</td>\n",
       "      <td>0</td>\n",
       "      <td>0</td>\n",
       "    </tr>\n",
       "    <tr>\n",
       "      <td>3496</td>\n",
       "      <td>Rent</td>\n",
       "      <td>233567.0</td>\n",
       "      <td>1</td>\n",
       "      <td>0.0</td>\n",
       "      <td>7.0</td>\n",
       "      <td>11.7</td>\n",
       "      <td>0.0</td>\n",
       "      <td>0.0</td>\n",
       "      <td>0.0</td>\n",
       "      <td>0.0</td>\n",
       "      <td>0</td>\n",
       "      <td>210166.0</td>\n",
       "      <td>0.0</td>\n",
       "      <td>0.0</td>\n",
       "      <td>746.0</td>\n",
       "      <td>0</td>\n",
       "      <td>1</td>\n",
       "      <td>0.0</td>\n",
       "      <td>0</td>\n",
       "      <td>1</td>\n",
       "      <td>0</td>\n",
       "      <td>0</td>\n",
       "      <td>0</td>\n",
       "      <td>0</td>\n",
       "    </tr>\n",
       "    <tr>\n",
       "      <td>4165</td>\n",
       "      <td>Rent</td>\n",
       "      <td>1254513.0</td>\n",
       "      <td>10</td>\n",
       "      <td>0.0</td>\n",
       "      <td>6.0</td>\n",
       "      <td>23.4</td>\n",
       "      <td>0.0</td>\n",
       "      <td>0.0</td>\n",
       "      <td>60.0</td>\n",
       "      <td>0.0</td>\n",
       "      <td>0</td>\n",
       "      <td>99999999.0</td>\n",
       "      <td>0.0</td>\n",
       "      <td>0.0</td>\n",
       "      <td>748.0</td>\n",
       "      <td>0</td>\n",
       "      <td>1</td>\n",
       "      <td>0.0</td>\n",
       "      <td>0</td>\n",
       "      <td>1</td>\n",
       "      <td>0</td>\n",
       "      <td>0</td>\n",
       "      <td>0</td>\n",
       "      <td>0</td>\n",
       "    </tr>\n",
       "    <tr>\n",
       "      <td>7124</td>\n",
       "      <td>Rent</td>\n",
       "      <td>0.0</td>\n",
       "      <td>1</td>\n",
       "      <td>0.0</td>\n",
       "      <td>4.0</td>\n",
       "      <td>11.0</td>\n",
       "      <td>0.0</td>\n",
       "      <td>0.0</td>\n",
       "      <td>50.0</td>\n",
       "      <td>0.0</td>\n",
       "      <td>0</td>\n",
       "      <td>134024.0</td>\n",
       "      <td>0.0</td>\n",
       "      <td>0.0</td>\n",
       "      <td>NaN</td>\n",
       "      <td>0</td>\n",
       "      <td>0</td>\n",
       "      <td>0.0</td>\n",
       "      <td>0</td>\n",
       "      <td>0</td>\n",
       "      <td>0</td>\n",
       "      <td>1</td>\n",
       "      <td>0</td>\n",
       "      <td>0</td>\n",
       "    </tr>\n",
       "  </tbody>\n",
       "</table>\n",
       "</div>"
      ],
      "text/plain": [
       "     Home Ownership  Annual Income  Years in current job  Tax Liens  \\\n",
       "780   Home Mortgage       867749.0                    10        0.0   \n",
       "1643           Rent            0.0                     9        0.0   \n",
       "3219  Home Mortgage            0.0                    10        0.0   \n",
       "3496           Rent       233567.0                     1        0.0   \n",
       "4165           Rent      1254513.0                    10        0.0   \n",
       "7124           Rent            0.0                     1        0.0   \n",
       "\n",
       "      Number of Open Accounts  Years of Credit History  Maximum Open Credit  \\\n",
       "780                       2.0                     16.5                  0.0   \n",
       "1643                      3.0                     10.0                  0.0   \n",
       "3219                      3.0                     18.5                  0.0   \n",
       "3496                      7.0                     11.7                  0.0   \n",
       "4165                      6.0                     23.4                  0.0   \n",
       "7124                      4.0                     11.0                  0.0   \n",
       "\n",
       "      Number of Credit Problems  Months since last delinquent  Bankruptcies  \\\n",
       "780                         0.0                          66.0           0.0   \n",
       "1643                        0.0                           0.0           0.0   \n",
       "3219                        0.0                           0.0           0.0   \n",
       "3496                        0.0                           0.0           0.0   \n",
       "4165                        0.0                          60.0           0.0   \n",
       "7124                        0.0                          50.0           0.0   \n",
       "\n",
       "      Term  Current Loan Amount  Current Credit Balance  Monthly Debt  \\\n",
       "780      0              75350.0                     0.0           0.0   \n",
       "1643     0             332156.0                     0.0           0.0   \n",
       "3219     0              79200.0                     0.0           0.0   \n",
       "3496     0             210166.0                     0.0           0.0   \n",
       "4165     0           99999999.0                     0.0           0.0   \n",
       "7124     0             134024.0                     0.0           0.0   \n",
       "\n",
       "      Credit Score  Credit Default  Revenue set  Debt load  Bankruptcies Flag  \\\n",
       "780          704.0               0            1        0.0                  0   \n",
       "1643           NaN               1            0        0.0                  0   \n",
       "3219           NaN               0            0        0.0                  0   \n",
       "3496         746.0               0            1        0.0                  0   \n",
       "4165         748.0               0            1        0.0                  0   \n",
       "7124           NaN               0            0        0.0                  0   \n",
       "\n",
       "      Purpose_All others  Purpose_business loan  Purpose_debt consolidation  \\\n",
       "780                    0                      0                           0   \n",
       "1643                   0                      0                           0   \n",
       "3219                   0                      0                           1   \n",
       "3496                   1                      0                           0   \n",
       "4165                   1                      0                           0   \n",
       "7124                   0                      0                           1   \n",
       "\n",
       "      Purpose_home improvements  Purpose_other  \n",
       "780                           1              0  \n",
       "1643                          0              1  \n",
       "3219                          0              0  \n",
       "3496                          0              0  \n",
       "4165                          0              0  \n",
       "7124                          0              0  "
      ]
     },
     "execution_count": 33,
     "metadata": {},
     "output_type": "execute_result"
    }
   ],
   "source": [
    "#df['Monthly Debt'].value_counts()\n",
    "tmp_df = df.loc[(df['Current Credit Balance']==0) & (df['Monthly Debt']==0)]\n",
    "tmp_df\n"
   ]
  },
  {
   "cell_type": "code",
   "execution_count": 34,
   "metadata": {},
   "outputs": [
    {
     "data": {
      "text/html": [
       "<div>\n",
       "<style scoped>\n",
       "    .dataframe tbody tr th:only-of-type {\n",
       "        vertical-align: middle;\n",
       "    }\n",
       "\n",
       "    .dataframe tbody tr th {\n",
       "        vertical-align: top;\n",
       "    }\n",
       "\n",
       "    .dataframe thead th {\n",
       "        text-align: right;\n",
       "    }\n",
       "</style>\n",
       "<table border=\"1\" class=\"dataframe\">\n",
       "  <thead>\n",
       "    <tr style=\"text-align: right;\">\n",
       "      <th></th>\n",
       "      <th>Home Ownership</th>\n",
       "      <th>Annual Income</th>\n",
       "      <th>Years in current job</th>\n",
       "      <th>Tax Liens</th>\n",
       "      <th>Number of Open Accounts</th>\n",
       "      <th>Years of Credit History</th>\n",
       "      <th>Maximum Open Credit</th>\n",
       "      <th>Number of Credit Problems</th>\n",
       "      <th>Months since last delinquent</th>\n",
       "      <th>Bankruptcies</th>\n",
       "      <th>Term</th>\n",
       "      <th>Current Loan Amount</th>\n",
       "      <th>Current Credit Balance</th>\n",
       "      <th>Monthly Debt</th>\n",
       "      <th>Credit Score</th>\n",
       "      <th>Revenue set</th>\n",
       "      <th>Debt load</th>\n",
       "      <th>Bankruptcies Flag</th>\n",
       "      <th>Purpose_All others</th>\n",
       "      <th>Purpose_buy a car</th>\n",
       "      <th>Purpose_debt consolidation</th>\n",
       "      <th>Purpose_home improvements</th>\n",
       "      <th>Purpose_other</th>\n",
       "    </tr>\n",
       "  </thead>\n",
       "  <tbody>\n",
       "  </tbody>\n",
       "</table>\n",
       "</div>"
      ],
      "text/plain": [
       "Empty DataFrame\n",
       "Columns: [Home Ownership, Annual Income, Years in current job, Tax Liens, Number of Open Accounts, Years of Credit History, Maximum Open Credit, Number of Credit Problems, Months since last delinquent, Bankruptcies, Term, Current Loan Amount, Current Credit Balance, Monthly Debt, Credit Score, Revenue set, Debt load, Bankruptcies Flag, Purpose_All others, Purpose_buy a car, Purpose_debt consolidation, Purpose_home improvements, Purpose_other]\n",
       "Index: []"
      ]
     },
     "execution_count": 34,
     "metadata": {},
     "output_type": "execute_result"
    }
   ],
   "source": [
    "tmp_df = df_test.loc[(df_test['Current Credit Balance']==0) & (df_test['Monthly Debt']==0)]\n",
    "tmp_df"
   ]
  },
  {
   "cell_type": "markdown",
   "metadata": {},
   "source": [
    ">Тоже немного смущают нули, посмотрю прям по строчкам. Возможно это теже строки где нули в общем теле кредита. И тогда точно их уберу\n",
    "\n",
    "Посмотрел на них, пока удялть не стал. Конечно не тяжело когда у тебя только датасет и нет данных о том как и кто собирал (\n",
    "Пока не удолял"
   ]
  },
  {
   "cell_type": "markdown",
   "metadata": {},
   "source": [
    "### 15. Credit Score"
   ]
  },
  {
   "cell_type": "code",
   "execution_count": 35,
   "metadata": {},
   "outputs": [],
   "source": [
    "#df['Credit Score'].value_counts()\n",
    "#df_test['Credit Score'].value_counts()\n",
    "my_prepare_dataset(df,'Credit Score')\n",
    "my_prepare_dataset(df_test,'Credit Score')"
   ]
  },
  {
   "cell_type": "code",
   "execution_count": 36,
   "metadata": {},
   "outputs": [],
   "source": [
    "#(len(df['Credit Score']) - df['Credit Score'].count())/len(df)*100\n",
    "#(len(df_test['Credit Score']) - df_test['Credit Score'].count())/len(df_test)*100"
   ]
  },
  {
   "cell_type": "markdown",
   "metadata": {},
   "source": [
    ">Нет в описании этого поля. Кредитный рейтинг это судя по всему. У меня лично нет к нему доверия (и тут в этом дата сете в том числе) так как методики нет. Наверное буду пробовать строить модель и учетом этого рейтинга и без него, чтобы сравнить. Возможно добавлю ещё поле бинарное. Есть рейтинг 0/1 и посмотрю что будет\n",
    "\n",
    "Заменил пропуски в самом поле и добавил свой рейтинг в котором -1, если его нет - 0, если он не выше порога определнного и 1 если выше этого порога"
   ]
  },
  {
   "cell_type": "code",
   "execution_count": 37,
   "metadata": {},
   "outputs": [
    {
     "data": {
      "text/plain": [
       " 1    5943\n",
       "-1    1557\n",
       "Name: Credit Score My flag, dtype: int64"
      ]
     },
     "execution_count": 37,
     "metadata": {},
     "output_type": "execute_result"
    }
   ],
   "source": [
    "df['Credit Score My flag'].value_counts()"
   ]
  },
  {
   "cell_type": "markdown",
   "metadata": {},
   "source": [
    "## Смотрим уже предметно показатели"
   ]
  },
  {
   "cell_type": "markdown",
   "metadata": {},
   "source": [
    "### \"Credit Default\". Собсвтенно наша целевая переменная"
   ]
  },
  {
   "cell_type": "code",
   "execution_count": 38,
   "metadata": {},
   "outputs": [
    {
     "data": {
      "text/plain": [
       "0    5387\n",
       "1    2113\n",
       "Name: Credit Default, dtype: int64"
      ]
     },
     "execution_count": 38,
     "metadata": {},
     "output_type": "execute_result"
    }
   ],
   "source": [
    "df['Credit Default'].value_counts()"
   ]
  },
  {
   "cell_type": "markdown",
   "metadata": {},
   "source": [
    "На всякий случай посмотрел что нет значений других кроме 0 и 1 :)"
   ]
  },
  {
   "cell_type": "code",
   "execution_count": 39,
   "metadata": {},
   "outputs": [],
   "source": [
    "TARGET_NAME = 'Credit Default'\n",
    "BASE_FEATURE_NAMES = df.columns.drop(TARGET_NAME).tolist()\n",
    "NEW_FEATURE_NAMES = df.columns.drop([TARGET_NAME] + BASE_FEATURE_NAMES)"
   ]
  },
  {
   "cell_type": "code",
   "execution_count": 40,
   "metadata": {},
   "outputs": [
    {
     "data": {
      "image/png": "[encoded data removed]",
      "text/plain": [
       "<Figure size 576x360 with 1 Axes>"
      ]
     },
     "metadata": {
      "needs_background": "light"
     },
     "output_type": "display_data"
    }
   ],
   "source": [
    "plt.figure(figsize=(8, 5))\n",
    "\n",
    "sns.countplot(x=TARGET_NAME, data=df)\n",
    "\n",
    "plt.title('Target variable distribution')\n",
    "plt.show()"
   ]
  },
  {
   "cell_type": "markdown",
   "metadata": {},
   "source": [
    "Дисбаланс у нас тут тоже есть, как и в уроке. Что понятно. На сколько я понял, такой дисбаланс говорить нам о том, что \"легче\" будет предсказать 0 чем 1. И опять таки, на сколько я понял, нам это нужно прежде всего для того чтобы понимать как раз для того, чтобы потом \"двигать\" F-функцию"
   ]
  },
  {
   "cell_type": "markdown",
   "metadata": {},
   "source": [
    "Так, посмотрим на то, какие показатели будут коллерировать с нашей целевой переменной"
   ]
  },
  {
   "cell_type": "code",
   "execution_count": 41,
   "metadata": {},
   "outputs": [
    {
     "data": {
      "image/png": "[encoded data removed]",
      "text/plain": [
       "<Figure size 1080x936 with 1 Axes>"
      ]
     },
     "metadata": {
      "needs_background": "light"
     },
     "output_type": "display_data"
    }
   ],
   "source": [
    "corr_with_target = df[BASE_FEATURE_NAMES + [TARGET_NAME]].corr().iloc[:-1, -1].sort_values(ascending=False)\n",
    "\n",
    "plt.figure(figsize=(15, 13))\n",
    "\n",
    "sns.barplot(x=corr_with_target.values, y=corr_with_target.index)\n",
    "\n",
    "plt.title('Корреляция показателей и целевой переменной')\n",
    "plt.show()"
   ]
  },
  {
   "cell_type": "markdown",
   "metadata": {},
   "source": [
    "Вот у нас выделились явные лидеры, которые нам надо рассмотреть: Credit Score и Term с положительной корреляцией и Credit Score My Flag, Revenue Set, Annual Income, Curent Loan Amount -  с отрицательной\n",
    "\n",
    "Потому смотрим на каждый из них в отдельности"
   ]
  },
  {
   "cell_type": "markdown",
   "metadata": {},
   "source": [
    "### Оценка признака \"Credit Score\" в разрезе целевой переменной"
   ]
  },
  {
   "cell_type": "code",
   "execution_count": 42,
   "metadata": {},
   "outputs": [
    {
     "data": {
      "image/png": "[encoded data removed]",
      "text/plain": [
       "<Figure size 720x576 with 1 Axes>"
      ]
     },
     "metadata": {
      "needs_background": "light"
     },
     "output_type": "display_data"
    }
   ],
   "source": [
    "plt.figure(figsize=(10, 8))\n",
    "\n",
    "sns.countplot(x=\"Credit Score\", hue=TARGET_NAME, data=df)\n",
    "plt.title('Credit Score сгруппированный по целеовй переменной')\n",
    "plt.legend(title='Target', loc='upper right')\n",
    "\n",
    "plt.show()"
   ]
  },
  {
   "cell_type": "markdown",
   "metadata": {},
   "source": [
    "Так как у нас там много разных значений, то для визульного анализа будем использовать другой метод. Туд ничего не видно :)"
   ]
  },
  {
   "cell_type": "code",
   "execution_count": 43,
   "metadata": {},
   "outputs": [
    {
     "data": {
      "image/png": "[encoded data removed]",
      "text/plain": [
       "<Figure size 720x360 with 1 Axes>"
      ]
     },
     "metadata": {
      "needs_background": "light"
     },
     "output_type": "display_data"
    }
   ],
   "source": [
    "#Получили сулчайную выборку строк и по двум колонкам\n",
    "sc_with_target_s = df[['Credit Score', TARGET_NAME]].sample(1000)\n",
    "sc_s = sc_with_target_s['Credit Score']\n",
    "\n",
    "# разделили значения по двум графикам \n",
    "sc_target_0 = sc_s[sc_with_target_s[TARGET_NAME] == 0]\n",
    "sc_target_1 = sc_s[sc_with_target_s[TARGET_NAME] == 1]\n",
    "\n",
    "plt.figure(figsize=(10, 5))\n",
    "\n",
    "sns.kdeplot(sc_target_0, shade=True, label='No default', color='g')\n",
    "sns.kdeplot(sc_target_1, shade=True, label='Default', color='r')\n",
    "\n",
    "plt.xlabel('Credit Score')\n",
    "plt.title('Credit Score группировка по в разрезе целевой переменной')\n",
    "plt.show()"
   ]
  },
  {
   "cell_type": "code",
   "execution_count": 44,
   "metadata": {},
   "outputs": [
    {
     "data": {
      "image/png": "[encoded data removed]",
      "text/plain": [
       "<Figure size 720x360 with 1 Axes>"
      ]
     },
     "metadata": {
      "needs_background": "light"
     },
     "output_type": "display_data"
    }
   ],
   "source": [
    "sc_with_target_s = df[['Credit Score', TARGET_NAME]].sample(1000)\n",
    "sc_s = sc_with_target_s['Credit Score']\n",
    "sc_target_0 = sc_s[sc_with_target_s[TARGET_NAME] == 0]\n",
    "sc_target_1 = sc_s[sc_with_target_s[TARGET_NAME] == 1]\n",
    "\n",
    "plt.figure(figsize=(10, 5))\n",
    "\n",
    "sns.kdeplot(sc_target_0, shade=True, label='No default', color='g')\n",
    "sns.kdeplot(sc_target_1, shade=True, label='Default', color='r')\n",
    "\n",
    "plt.xlabel('Credit Score')\n",
    "plt.title('Credit Score группировка по в разрезе целевой переменной')\n",
    "plt.show()"
   ]
  },
  {
   "cell_type": "markdown",
   "metadata": {},
   "source": [
    "Зафиксировал несколько разных семплов, они показательны как раз.\n",
    "На сколько я понимаю, это не безумно хорошо, так как по вертикали у нас частота, то нам их сложно будет разделить.\n",
    "Не считая правого всплеска, можно было бы попытаться разбить на два отдельных множества, которые были бы а-ля нормальные, но тоже не вижу что это даст, так как не поможет задачи классификации этого признака "
   ]
  },
  {
   "cell_type": "markdown",
   "metadata": {},
   "source": [
    "Но, возможно я не прав, и не так трактую график, потому проверим этот показатель как делали в уроке\n",
    "Сначала проверим на нормальность, для успокоения души"
   ]
  },
  {
   "cell_type": "code",
   "execution_count": 45,
   "metadata": {},
   "outputs": [
    {
     "data": {
      "text/plain": [
       "(0.38174968957901, 0.0)"
      ]
     },
     "execution_count": 45,
     "metadata": {},
     "output_type": "execute_result"
    }
   ],
   "source": [
    "shapiro(sc_s)"
   ]
  },
  {
   "cell_type": "markdown",
   "metadata": {},
   "source": [
    "Вот с гипотезами пока как то тяжко, видимо надо вертеть эти данные вкуча разрезах, чтобы и проверять чуть ли не по всем критерям, чтобы найти что-то. Но вот что, с мат ожиданием понятно. Если у нас будет два разных мат ожидания для двух этих классов, то когда прилетит значение этой переменной, мы сможем с уверенноостью в 95 процентов сказать как это повлияете на целевую переменную\n",
    "\n",
    "Какие ещё могут быть гипотезы, пока сложно предположить. Потому как тут визуально матожидания будут где-то рядом."
   ]
  },
  {
   "cell_type": "markdown",
   "metadata": {},
   "source": [
    "#### Наблюдение\n",
    "Визуально различия есть, проверяем, мат ожидания у них будут равны или нет \n",
    "\n",
    "#### Гипотеза\n",
    "\n",
    "* Нулевая гипотеза: средние значения в двух независимых выборках равны\n",
    "* Альтернативная гипотеза: средние значения в двух независимых выборках различаются\n",
    "* Критерий: с помощью критерия Манна-Уитни\n",
    "* Уровень значимости $\\normalsize \\alpha$: 0.05\n",
    "* Критическая область: двухсторонняя"
   ]
  },
  {
   "cell_type": "markdown",
   "metadata": {},
   "source": [
    "Оценим эквивалентность мат. ожадиний, в исследуемых группах, с помощью критерия Манна-Уитни"
   ]
  },
  {
   "cell_type": "code",
   "execution_count": 46,
   "metadata": {},
   "outputs": [
    {
     "data": {
      "text/plain": [
       "MannwhitneyuResult(statistic=100271.0, pvalue=0.38640661859437847)"
      ]
     },
     "execution_count": 46,
     "metadata": {},
     "output_type": "execute_result"
    }
   ],
   "source": [
    "mannwhitneyu(sc_target_0, sc_target_1)"
   ]
  },
  {
   "cell_type": "markdown",
   "metadata": {},
   "source": [
    "pvalue получилось не сильно меньше даже больше ) видимо не очень хорошо ) посмотрим тоже на графике"
   ]
  },
  {
   "cell_type": "code",
   "execution_count": 47,
   "metadata": {},
   "outputs": [
    {
     "data": {
      "image/png": "[encoded data removed]",
      "text/plain": [
       "<Figure size 576x360 with 1 Axes>"
      ]
     },
     "metadata": {
      "needs_background": "light"
     },
     "output_type": "display_data"
    }
   ],
   "source": [
    "plt.figure(figsize=(8, 5))\n",
    "\n",
    "sns.pointplot(x=TARGET_NAME, y='Credit Score', data=sc_with_target_s, capsize=.1)\n",
    "\n",
    "plt.title('Confidence intervals (95 %) for Credit Score')\n",
    "plt.show()"
   ]
  },
  {
   "cell_type": "markdown",
   "metadata": {},
   "source": [
    "Так, а вот по графику, всё получается прям ну очень хорошо. Получается мы можем отвергунть нулевую гипотезу, о том что мат ожидания равны, так как у них не плохой разброс "
   ]
  },
  {
   "cell_type": "markdown",
   "metadata": {},
   "source": [
    "<b>Вопрос</b>:Гипотеза могла же быть и наоборот высказана, нулевая гепотеза могла быть названа \"Мат ожидания не равны\", уровень значимости наверное тогда был 0.95? Но что от этого поменялось, выборка была таже, mannwhitneyu вернул бы теже значения. Возможно их интерпритировать нужно было бы по другому. И визуально график бы не поменялся, так как мы просто раздили имеющиеся у нас данные. Потому совсем пока не понял зачем мне нужна была гипотеза :("
   ]
  },
  {
   "cell_type": "markdown",
   "metadata": {},
   "source": [
    "#### Оценка признака \"Term\" в разрезе целевой переменной"
   ]
  },
  {
   "cell_type": "code",
   "execution_count": 48,
   "metadata": {},
   "outputs": [
    {
     "data": {
      "text/plain": [
       "0    5556\n",
       "1    1944\n",
       "Name: Term, dtype: int64"
      ]
     },
     "execution_count": 48,
     "metadata": {},
     "output_type": "execute_result"
    }
   ],
   "source": [
    "df['Term'].value_counts()"
   ]
  },
  {
   "cell_type": "markdown",
   "metadata": {},
   "source": [
    "Он у нас всего из двух значений, занчит его посмотрим как раз в частоном разрезе"
   ]
  },
  {
   "cell_type": "code",
   "execution_count": 49,
   "metadata": {},
   "outputs": [
    {
     "data": {
      "image/png": "[encoded data removed]",
      "text/plain": [
       "<Figure size 720x576 with 1 Axes>"
      ]
     },
     "metadata": {
      "needs_background": "light"
     },
     "output_type": "display_data"
    }
   ],
   "source": [
    "plt.figure(figsize=(10, 8))\n",
    "\n",
    "sns.countplot(x=\"Term\", hue=TARGET_NAME, data=df)\n",
    "plt.title('Term сгруппированный по целевой переменной')\n",
    "plt.legend(title='Target', loc='upper right')\n",
    "\n",
    "plt.show()"
   ]
  },
  {
   "cell_type": "markdown",
   "metadata": {},
   "source": [
    "Видно что высокий процент Term=1 превращает нашу целевую переменную. Это хорошо, какие-то доп оценки видимо делать нет смысла"
   ]
  },
  {
   "cell_type": "markdown",
   "metadata": {},
   "source": [
    "#### Оценка признака \"Term\" в разрезе целевой переменной"
   ]
  },
  {
   "cell_type": "code",
   "execution_count": 51,
   "metadata": {},
   "outputs": [
    {
     "data": {
      "text/plain": [
       "99999999.0    870\n",
       "89298.0         6\n",
       "218064.0        6\n",
       "216106.0        5\n",
       "270226.0        5\n",
       "             ... \n",
       "490006.0        1\n",
       "404756.0        1\n",
       "194414.0        1\n",
       "420376.0        1\n",
       "33792.0         1\n",
       "Name: Current Loan Amount, Length: 5386, dtype: int64"
      ]
     },
     "execution_count": 51,
     "metadata": {},
     "output_type": "execute_result"
    }
   ],
   "source": [
    "df['Current Loan Amount'].value_counts()"
   ]
  },
  {
   "cell_type": "code",
   "execution_count": 55,
   "metadata": {},
   "outputs": [
    {
     "data": {
      "image/png": "[encoded data removed]",
      "text/plain": [
       "<Figure size 720x360 with 1 Axes>"
      ]
     },
     "metadata": {
      "needs_background": "light"
     },
     "output_type": "display_data"
    }
   ],
   "source": [
    "#Получили сулчайную выборку строк и по двум колонкам\n",
    "cla_with_target_s = df[['Current Loan Amount', TARGET_NAME]].sample(1000)\n",
    "cla_s = cla_with_target_s['Current Loan Amount']\n",
    "\n",
    "# разделили значения по двум графикам \n",
    "cla_target_0 = cla_s[cla_with_target_s[TARGET_NAME] == 0]\n",
    "cla_target_1 = cla_s[cla_with_target_s[TARGET_NAME] == 1]\n",
    "\n",
    "plt.figure(figsize=(10, 5))\n",
    "\n",
    "sns.kdeplot(cla_target_0, shade=True, label='No default', color='g')\n",
    "sns.kdeplot(cla_target_1, shade=True, label='Default', color='r')\n",
    "\n",
    "plt.xlabel('Current Loan Amount')\n",
    "plt.title('Current Loan Amount группировка по в разрезе целевой переменной')\n",
    "plt.show()"
   ]
  },
  {
   "cell_type": "code",
   "execution_count": 57,
   "metadata": {},
   "outputs": [
    {
     "data": {
      "text/plain": [
       "(0.35864561796188354, 0.0)"
      ]
     },
     "execution_count": 57,
     "metadata": {},
     "output_type": "execute_result"
    }
   ],
   "source": [
    "shapiro(cla_s)"
   ]
  },
  {
   "cell_type": "markdown",
   "metadata": {},
   "source": [
    "Распределение не нормальное, посмотрим в этот раз визально, как в уроке."
   ]
  },
  {
   "cell_type": "code",
   "execution_count": 59,
   "metadata": {},
   "outputs": [
    {
     "data": {
      "image/png": "[encoded data removed]",
      "text/plain": [
       "<Figure size 1440x576 with 2 Axes>"
      ]
     },
     "metadata": {
      "needs_background": "light"
     },
     "output_type": "display_data"
    }
   ],
   "source": [
    "plt.figure(figsize=(20, 8))\n",
    "\n",
    "ax1 = plt.subplot(121)\n",
    "ax1.set_xlabel('Current Loan Amount')\n",
    "ax1.set_ylabel('Count')\n",
    "ax1.set_title('Current Loan Amount distribution')\n",
    "cla_s.hist()\n",
    "\n",
    "plt.subplot(122)\n",
    "probplot(cla_s, dist='norm', plot=plt)\n",
    "\n",
    "plt.show()"
   ]
  },
  {
   "cell_type": "markdown",
   "metadata": {},
   "source": [
    "Хорошее распределение для разделения судя по графику"
   ]
  },
  {
   "cell_type": "markdown",
   "metadata": {},
   "source": [
    "#### Оценка признака \"Term\" в разрезе целевой переменной"
   ]
  },
  {
   "cell_type": "code",
   "execution_count": 62,
   "metadata": {},
   "outputs": [
    {
     "data": {
      "text/plain": [
       "0.0          1557\n",
       "1161660.0       4\n",
       "1058376.0       4\n",
       "1043651.0       4\n",
       "1338113.0       4\n",
       "             ... \n",
       "1141254.0       1\n",
       "7907382.0       1\n",
       "1534478.0       1\n",
       "972040.0        1\n",
       "585751.0        1\n",
       "Name: Annual Income, Length: 5479, dtype: int64"
      ]
     },
     "execution_count": 62,
     "metadata": {},
     "output_type": "execute_result"
    }
   ],
   "source": [
    "df['Annual Income'].value_counts()"
   ]
  },
  {
   "cell_type": "code",
   "execution_count": 65,
   "metadata": {},
   "outputs": [
    {
     "data": {
      "image/png": "[encoded data removed]",
      "text/plain": [
       "<Figure size 720x360 with 1 Axes>"
      ]
     },
     "metadata": {
      "needs_background": "light"
     },
     "output_type": "display_data"
    }
   ],
   "source": [
    "#Получили сулчайную выборку строк и по двум колонкам\n",
    "ai_with_target_s = df[['Annual Income', TARGET_NAME]].sample(1000)\n",
    "ai_s = ai_with_target_s['Annual Income']\n",
    "\n",
    "# разделили значения по двум графикам \n",
    "ai_target_0 = ai_s[ai_with_target_s[TARGET_NAME] == 0]\n",
    "ai_target_1 = ai_s[ai_with_target_s[TARGET_NAME] == 1]\n",
    "\n",
    "plt.figure(figsize=(10, 5))\n",
    "\n",
    "sns.kdeplot(ai_target_0, shade=True, label='No default', color='g')\n",
    "sns.kdeplot(ai_target_1, shade=True, label='Default', color='r')\n",
    "\n",
    "plt.xlabel('Annual Income')\n",
    "plt.title('Annual Income группировка по в разрезе целевой переменной')\n",
    "plt.show()"
   ]
  },
  {
   "cell_type": "markdown",
   "metadata": {},
   "source": [
    "Кажется очень похожими, посмотрим что там с мат ожиданиями"
   ]
  },
  {
   "cell_type": "code",
   "execution_count": 67,
   "metadata": {},
   "outputs": [
    {
     "data": {
      "text/plain": [
       "MannwhitneyuResult(statistic=90994.0, pvalue=0.0003827293700265393)"
      ]
     },
     "execution_count": 67,
     "metadata": {},
     "output_type": "execute_result"
    }
   ],
   "source": [
    "mannwhitneyu(ai_target_0, ai_target_1)"
   ]
  },
  {
   "cell_type": "code",
   "execution_count": 68,
   "metadata": {},
   "outputs": [
    {
     "data": {
      "image/png": "[encoded data removed]",
      "text/plain": [
       "<Figure size 576x360 with 1 Axes>"
      ]
     },
     "metadata": {
      "needs_background": "light"
     },
     "output_type": "display_data"
    }
   ],
   "source": [
    "plt.figure(figsize=(8, 5))\n",
    "\n",
    "sns.pointplot(x=TARGET_NAME, y='Annual Income', data=ai_with_target_s, capsize=.1)\n",
    "\n",
    "##plt.title('Confidence intervals (95 %) for Credit Score')\n",
    "plt.show()"
   ]
  },
  {
   "cell_type": "markdown",
   "metadata": {},
   "source": [
    "#### Оценка признака \"Revenue set\" в разрезе целевой переменной"
   ]
  },
  {
   "cell_type": "code",
   "execution_count": 72,
   "metadata": {},
   "outputs": [
    {
     "data": {
      "text/plain": [
       "1    5943\n",
       "0    1557\n",
       "Name: Revenue set, dtype: int64"
      ]
     },
     "execution_count": 72,
     "metadata": {},
     "output_type": "execute_result"
    }
   ],
   "source": [
    "df['Revenue set'].value_counts()"
   ]
  },
  {
   "cell_type": "code",
   "execution_count": 73,
   "metadata": {},
   "outputs": [
    {
     "data": {
      "image/png": "[encoded data removed]",
      "text/plain": [
       "<Figure size 720x576 with 1 Axes>"
      ]
     },
     "metadata": {
      "needs_background": "light"
     },
     "output_type": "display_data"
    }
   ],
   "source": [
    "plt.figure(figsize=(10, 8))\n",
    "\n",
    "sns.countplot(x=\"Revenue set\", hue=TARGET_NAME, data=df)\n",
    "plt.title('Revenue set сгруппированный по целевой переменной')\n",
    "plt.legend(title='Target', loc='upper right')\n",
    "\n",
    "plt.show()"
   ]
  },
  {
   "cell_type": "markdown",
   "metadata": {},
   "source": [
    "Ну вот такое влияние этой переменной на целевую переменную. Не вижу что тут можно и навреное и не нужно делать ничего  "
   ]
  },
  {
   "cell_type": "markdown",
   "metadata": {},
   "source": [
    "P.S. Смотрю третью видео, надеюсб продвинусь дальше сильнее "
   ]
  }
 ],
 "metadata": {
  "kernelspec": {
   "display_name": "Python 3",
   "language": "python",
   "name": "python3"
  },
  "language_info": {
   "codemirror_mode": {
    "name": "ipython",
    "version": 3
   },
   "file_extension": ".py",
   "mimetype": "text/x-python",
   "name": "python",
   "nbconvert_exporter": "python",
   "pygments_lexer": "ipython3",
   "version": "3.7.4"
  }
 },
 "nbformat": 4,
 "nbformat_minor": 2
}
